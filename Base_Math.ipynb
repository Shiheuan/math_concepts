{
 "cells": [
  {
   "cell_type": "markdown",
   "metadata": {},
   "source": [
    "# Mean\n",
    "\n",
    "Given a set of numbers, the mean of that set is the sum of all the elements divided by the number of elements in the set.\n",
    "\n",
    "the formula:\n",
    "\n",
    "$$\\mu=\\frac{1}{n}\\sum_ix_i$$"
   ]
  },
  {
   "cell_type": "code",
   "execution_count": 8,
   "metadata": {},
   "outputs": [
    {
     "data": {
      "text/plain": [
       "[<matplotlib.lines.Line2D at 0x2850f3b0a20>]"
      ]
     },
     "execution_count": 8,
     "metadata": {},
     "output_type": "execute_result"
    },
    {
     "data": {
      "image/png": "[encoded data removed]",
      "text/plain": [
       "<Figure size 432x288 with 1 Axes>"
      ]
     },
     "metadata": {
      "needs_background": "light"
     },
     "output_type": "display_data"
    }
   ],
   "source": [
    "import matplotlib.pyplot as plt\n",
    "\n",
    "def mean(sampleset):\n",
    "    total = 0\n",
    "    for element in sampleset:\n",
    "        total += element\n",
    "    return total/len(sampleset)\n",
    "\n",
    "myset = [2., 10., 3., 6., 4., 6., 10.]\n",
    "mymean = mean(myset)\n",
    "plt.plot(myset)\n",
    "plt.plot([mymean]*7)"
   ]
  },
  {
   "cell_type": "markdown",
   "metadata": {},
   "source": [
    "# Variance\n",
    "\n",
    "Variance needs the mean of the sample set as atarting point, and then averages the distances of the samples from the provided mean. The greater the vatiance, the most scattered the sample set.\n",
    "\n",
    "the formula:\n",
    "\n",
    "$$\\sigma^2=\\frac{1}{n}\\sum_i{(x_i-\\mu)^2}$$"
   ]
  },
  {
   "cell_type": "code",
   "execution_count": 10,
   "metadata": {},
   "outputs": [
    {
     "name": "stdout",
     "output_type": "stream",
     "text": [
      "Variance of first set: 8.693877551020408\n",
      "Variance of second set: 3070.6400000000003\n"
     ]
    }
   ],
   "source": [
    "import math\n",
    "\n",
    "def mean(sampleset):\n",
    "    total = 0\n",
    "    for element in sampleset:\n",
    "        total += element\n",
    "    return total/len(sampleset)\n",
    "\n",
    "def variance(sampleset):\n",
    "    total = 0\n",
    "    setmean = mean(sampleset)\n",
    "    for element in sampleset:\n",
    "        total += math.pow(element - setmean, 2)\n",
    "    return total/len(sampleset)\n",
    "\n",
    "myset1 = [2., 10., 3., 6., 4., 6., 10.]\n",
    "myset2 = [1., -100., 15., -100., 21.]\n",
    "\n",
    "print(\"Variance of first set: \"+ str(variance(myset1)))\n",
    "print(\"Variance of second set: \"+ str(variance(myset2)))"
   ]
  },
  {
   "cell_type": "markdown",
   "metadata": {},
   "source": [
    "# Standard deviation\n",
    "\n",
    "Standard deviation is simply a means of regularizing the square nature of the mean square used in the variance, effectively linearizing this term.\n",
    "\n",
    "$$\\sigma=\\sqrt{\\frac{1}{n}\\sum_i{(x_i-\\mu)^2}}$$"
   ]
  },
  {
   "cell_type": "markdown",
   "metadata": {},
   "source": [
    "# Random variables and distributions"
   ]
  },
  {
   "cell_type": "code",
   "execution_count": 11,
   "metadata": {},
   "outputs": [],
   "source": [
    "import matplotlib.pyplot as plt\n",
    "import numpy as np"
   ]
  },
  {
   "cell_type": "markdown",
   "metadata": {},
   "source": [
    "# Bernoulli distributions\n",
    "\n",
    "Bernoulli distribution has a binary outcome, and is very much like tossing a (fair) coin.\n",
    "\n",
    "This distribution represents a single event that takes the value 1(let's call this *heads*) with a proability of *p*, and 0(let's call this *tails*), with probability *1-p*."
   ]
  },
  {
   "cell_type": "code",
   "execution_count": 13,
   "metadata": {},
   "outputs": [
    {
     "data": {
      "text/plain": [
       "(array([0.3967, 0.6033]), array([0., 1., 2.]), <a list of 2 Patch objects>)"
      ]
     },
     "execution_count": 13,
     "metadata": {},
     "output_type": "execute_result"
    },
    {
     "data": {
      "image/png": "[encoded data removed]",
      "text/plain": [
       "<Figure size 432x288 with 1 Axes>"
      ]
     },
     "metadata": {
      "needs_background": "light"
     },
     "output_type": "display_data"
    }
   ],
   "source": [
    "plt.figure()\n",
    "distro = np.random.binomial(1, .6, 10000) / 0.5\n",
    "plt.hist(distro, 2, density=1)"
   ]
  },
  {
   "cell_type": "code",
   "execution_count": 19,
   "metadata": {},
   "outputs": [
    {
     "data": {
      "text/plain": [
       "(array([2.70270270e-06, 0.00000000e+00, 0.00000000e+00, 0.00000000e+00,\n",
       "        0.00000000e+00, 0.00000000e+00, 0.00000000e+00, 0.00000000e+00,\n",
       "        8.10810811e-06, 0.00000000e+00, 2.70270270e-06, 0.00000000e+00,\n",
       "        0.00000000e+00, 1.89189189e-05, 0.00000000e+00, 0.00000000e+00,\n",
       "        4.05405405e-05, 0.00000000e+00, 7.83783784e-05, 0.00000000e+00,\n",
       "        0.00000000e+00, 1.00000000e-04, 0.00000000e+00, 0.00000000e+00,\n",
       "        2.02702703e-04, 0.00000000e+00, 0.00000000e+00, 2.21621622e-04,\n",
       "        0.00000000e+00, 4.05405405e-04, 0.00000000e+00, 0.00000000e+00,\n",
       "        5.54054054e-04, 0.00000000e+00, 0.00000000e+00, 7.83783784e-04,\n",
       "        0.00000000e+00, 1.03243243e-03, 0.00000000e+00, 0.00000000e+00,\n",
       "        1.34594595e-03, 0.00000000e+00, 0.00000000e+00, 1.48918919e-03,\n",
       "        0.00000000e+00, 1.76486486e-03, 0.00000000e+00, 0.00000000e+00,\n",
       "        1.96756757e-03, 0.00000000e+00, 0.00000000e+00, 2.20000000e-03,\n",
       "        0.00000000e+00, 0.00000000e+00, 2.08918919e-03, 0.00000000e+00,\n",
       "        2.18108108e-03, 0.00000000e+00, 0.00000000e+00, 2.14594595e-03,\n",
       "        0.00000000e+00, 0.00000000e+00, 1.89189189e-03, 0.00000000e+00,\n",
       "        1.65675676e-03, 0.00000000e+00, 0.00000000e+00, 1.32432432e-03,\n",
       "        0.00000000e+00, 0.00000000e+00, 1.13243243e-03, 0.00000000e+00,\n",
       "        8.00000000e-04, 0.00000000e+00, 0.00000000e+00, 5.72972973e-04,\n",
       "        0.00000000e+00, 0.00000000e+00, 4.02702703e-04, 0.00000000e+00,\n",
       "        0.00000000e+00, 2.35135135e-04, 0.00000000e+00, 1.97297297e-04,\n",
       "        0.00000000e+00, 0.00000000e+00, 8.10810811e-05, 0.00000000e+00,\n",
       "        0.00000000e+00, 4.59459459e-05, 0.00000000e+00, 2.97297297e-05,\n",
       "        0.00000000e+00, 0.00000000e+00, 8.10810811e-06, 0.00000000e+00,\n",
       "        0.00000000e+00, 5.40540541e-06, 0.00000000e+00, 8.10810811e-06]),\n",
       " array([4000., 4037., 4074., 4111., 4148., 4185., 4222., 4259., 4296.,\n",
       "        4333., 4370., 4407., 4444., 4481., 4518., 4555., 4592., 4629.,\n",
       "        4666., 4703., 4740., 4777., 4814., 4851., 4888., 4925., 4962.,\n",
       "        4999., 5036., 5073., 5110., 5147., 5184., 5221., 5258., 5295.,\n",
       "        5332., 5369., 5406., 5443., 5480., 5517., 5554., 5591., 5628.,\n",
       "        5665., 5702., 5739., 5776., 5813., 5850., 5887., 5924., 5961.,\n",
       "        5998., 6035., 6072., 6109., 6146., 6183., 6220., 6257., 6294.,\n",
       "        6331., 6368., 6405., 6442., 6479., 6516., 6553., 6590., 6627.,\n",
       "        6664., 6701., 6738., 6775., 6812., 6849., 6886., 6923., 6960.,\n",
       "        6997., 7034., 7071., 7108., 7145., 7182., 7219., 7256., 7293.,\n",
       "        7330., 7367., 7404., 7441., 7478., 7515., 7552., 7589., 7626.,\n",
       "        7663., 7700.]),\n",
       " <a list of 100 Patch objects>)"
      ]
     },
     "execution_count": 19,
     "metadata": {},
     "output_type": "execute_result"
    },
    {
     "data": {
      "image/png": "[encoded data removed]",
      "text/plain": [
       "<Figure size 432x288 with 1 Axes>"
      ]
     },
     "metadata": {
      "needs_background": "light"
     },
     "output_type": "display_data"
    }
   ],
   "source": [
    "plt.figure()\n",
    "distro = np.random.binomial(100, .6, 10000) / 0.01\n",
    "plt.hist(distro, 100, density=1)"
   ]
  },
  {
   "cell_type": "markdown",
   "metadata": {},
   "source": [
    "# Uniform distribution\n",
    "\n",
    "Uniform distribution is a continuous distribution. In order to integrate to 1, *a* and *b* being the extreme of the function, this probability has value of *1/(b-a)*.\n"
   ]
  },
  {
   "cell_type": "code",
   "execution_count": 24,
   "metadata": {},
   "outputs": [
    {
     "data": {
      "text/plain": [
       "(array([1.94568301, 1.79111941, 2.03660278, 1.70929162, 1.69110766,\n",
       "        1.73656755, 1.91840708, 1.88203917, 1.70019964, 1.82748731,\n",
       "        1.80021138, 1.92749906, 1.77293545, 1.7547515 , 1.61837185,\n",
       "        2.0275108 , 1.76384348, 1.74565952, 1.83657929, 1.93659103,\n",
       "        1.82748731, 2.05478673, 1.71838359, 1.88203917, 1.61837185,\n",
       "        1.81839534, 1.78202743, 1.88203917, 1.83657929, 1.64564778,\n",
       "        1.80930336, 1.8729472 , 1.70929162, 1.80021138, 2.03660278,\n",
       "        1.92749906, 1.77293545, 1.74565952, 1.76384348, 2.16389045,\n",
       "        1.92749906, 1.7547515 , 1.69110766, 1.68201569, 1.58200394,\n",
       "        1.83657929, 1.90022313, 1.86385522, 1.67292371, 1.91840708]),\n",
       " array([0.25003447, 0.26103318, 0.27203189, 0.2830306 , 0.2940293 ,\n",
       "        0.30502801, 0.31602672, 0.32702543, 0.33802414, 0.34902285,\n",
       "        0.36002155, 0.37102026, 0.38201897, 0.39301768, 0.40401639,\n",
       "        0.4150151 , 0.4260138 , 0.43701251, 0.44801122, 0.45900993,\n",
       "        0.47000864, 0.48100735, 0.49200605, 0.50300476, 0.51400347,\n",
       "        0.52500218, 0.53600089, 0.5469996 , 0.5579983 , 0.56899701,\n",
       "        0.57999572, 0.59099443, 0.60199314, 0.61299185, 0.62399056,\n",
       "        0.63498926, 0.64598797, 0.65698668, 0.66798539, 0.6789841 ,\n",
       "        0.68998281, 0.70098151, 0.71198022, 0.72297893, 0.73397764,\n",
       "        0.74497635, 0.75597506, 0.76697376, 0.77797247, 0.78897118,\n",
       "        0.79996989]),\n",
       " <a list of 50 Patch objects>)"
      ]
     },
     "execution_count": 24,
     "metadata": {},
     "output_type": "execute_result"
    },
    {
     "data": {
      "image/png": "[encoded data removed]",
      "text/plain": [
       "<Figure size 432x288 with 1 Axes>"
      ]
     },
     "metadata": {
      "needs_background": "light"
     },
     "output_type": "display_data"
    }
   ],
   "source": [
    "plt.figure()\n",
    "uniform_low = 0.25\n",
    "uniform_high = 0.8\n",
    "uniform = np.random.uniform(uniform_low, uniform_high, 10000)\n",
    "plt.hist(uniform, 50, density=1)"
   ]
  },
  {
   "cell_type": "markdown",
   "metadata": {},
   "source": [
    "# Normal distribution\n",
    "\n",
    "This very common continuous random function, also called a **Gaussian function**, can be defined with the simple metrics of the mean and the variance in a complex form.\n",
    "\n",
    "the formula:\n",
    "\n",
    "$$f(x|\\mu,\\sigma^2)=\\frac{1}{\\sqrt{2\\sigma^2\\pi}}e^{-\\frac{(x-\\mu)^2}{2\\sigma^2}}$$"
   ]
  },
  {
   "cell_type": "code",
   "execution_count": 27,
   "metadata": {},
   "outputs": [
    {
     "data": {
      "text/plain": [
       "(array([  1.,   1.,   1.,   0.,   1.,   2.,   1.,   1.,   3.,   5.,   3.,\n",
       "          5.,   6.,   6.,  12.,  11.,  17.,  15.,  27.,  39.,  30.,  34.,\n",
       "         51.,  46.,  55.,  59.,  90.,  91.,  82., 118., 132., 138., 144.,\n",
       "        134., 186., 192., 210., 219., 236., 281., 271., 295., 258., 282.,\n",
       "        311., 281., 320., 306., 321., 306., 311., 302., 291., 245., 300.,\n",
       "        254., 229., 239., 231., 211., 200., 192., 160., 165., 127., 110.,\n",
       "        101., 112.,  79.,  69.,  72.,  44.,  48.,  47.,  38.,  38.,  21.,\n",
       "         23.,  18.,  15.,  17.,  10.,  10.,   6.,   7.,   5.,   4.,   2.,\n",
       "          1.,   2.,   2.,   2.,   1.,   1.,   1.,   0.,   0.,   0.,   0.,\n",
       "          1.]),\n",
       " array([-7.48797265e+00, -7.33213562e+00, -7.17629860e+00, -7.02046158e+00,\n",
       "        -6.86462456e+00, -6.70878754e+00, -6.55295051e+00, -6.39711349e+00,\n",
       "        -6.24127647e+00, -6.08543945e+00, -5.92960243e+00, -5.77376540e+00,\n",
       "        -5.61792838e+00, -5.46209136e+00, -5.30625434e+00, -5.15041732e+00,\n",
       "        -4.99458029e+00, -4.83874327e+00, -4.68290625e+00, -4.52706923e+00,\n",
       "        -4.37123221e+00, -4.21539518e+00, -4.05955816e+00, -3.90372114e+00,\n",
       "        -3.74788412e+00, -3.59204710e+00, -3.43621007e+00, -3.28037305e+00,\n",
       "        -3.12453603e+00, -2.96869901e+00, -2.81286198e+00, -2.65702496e+00,\n",
       "        -2.50118794e+00, -2.34535092e+00, -2.18951390e+00, -2.03367687e+00,\n",
       "        -1.87783985e+00, -1.72200283e+00, -1.56616581e+00, -1.41032879e+00,\n",
       "        -1.25449176e+00, -1.09865474e+00, -9.42817720e-01, -7.86980698e-01,\n",
       "        -6.31143676e-01, -4.75306654e-01, -3.19469632e-01, -1.63632610e-01,\n",
       "        -7.79558763e-03,  1.48041434e-01,  3.03878456e-01,  4.59715479e-01,\n",
       "         6.15552501e-01,  7.71389523e-01,  9.27226545e-01,  1.08306357e+00,\n",
       "         1.23890059e+00,  1.39473761e+00,  1.55057463e+00,  1.70641166e+00,\n",
       "         1.86224868e+00,  2.01808570e+00,  2.17392272e+00,  2.32975974e+00,\n",
       "         2.48559677e+00,  2.64143379e+00,  2.79727081e+00,  2.95310783e+00,\n",
       "         3.10894485e+00,  3.26478188e+00,  3.42061890e+00,  3.57645592e+00,\n",
       "         3.73229294e+00,  3.88812996e+00,  4.04396699e+00,  4.19980401e+00,\n",
       "         4.35564103e+00,  4.51147805e+00,  4.66731507e+00,  4.82315210e+00,\n",
       "         4.97898912e+00,  5.13482614e+00,  5.29066316e+00,  5.44650018e+00,\n",
       "         5.60233721e+00,  5.75817423e+00,  5.91401125e+00,  6.06984827e+00,\n",
       "         6.22568529e+00,  6.38152232e+00,  6.53735934e+00,  6.69319636e+00,\n",
       "         6.84903338e+00,  7.00487041e+00,  7.16070743e+00,  7.31654445e+00,\n",
       "         7.47238147e+00,  7.62821849e+00,  7.78405552e+00,  7.93989254e+00,\n",
       "         8.09572956e+00]),\n",
       " <a list of 100 Patch objects>)"
      ]
     },
     "execution_count": 27,
     "metadata": {},
     "output_type": "execute_result"
    },
    {
     "data": {
      "image/png": "[encoded data removed]",
      "text/plain": [
       "<Figure size 432x288 with 1 Axes>"
      ]
     },
     "metadata": {
      "needs_background": "light"
     },
     "output_type": "display_data"
    }
   ],
   "source": [
    "mu = 0\n",
    "sigma = 2\n",
    "distro = np.random.normal(mu, sigma, 10000)\n",
    "plt.hist(distro, 100, density=True)"
   ]
  },
  {
   "cell_type": "markdown",
   "metadata": {},
   "source": [
    "# Logistic distribution\n",
    "\n",
    "this distribution is similar to the normal distribution, but with the morphological difference. The main importance of this distribution lies in its **cumulative distribution function (CDF)**."
   ]
  },
  {
   "cell_type": "code",
   "execution_count": 30,
   "metadata": {},
   "outputs": [
    {
     "data": {
      "text/plain": [
       "(array([0.00135942, 0.        , 0.        , 0.00407827, 0.00271885,\n",
       "        0.00815654, 0.01223482, 0.02311021, 0.03126675, 0.0339856 ,\n",
       "        0.06525236, 0.08428429, 0.10059738, 0.12914529, 0.17128743,\n",
       "        0.214789  , 0.26916597, 0.36432565, 0.37520104, 0.44453167,\n",
       "        0.50298691, 0.6552424 , 0.64300759, 0.76943403, 0.76535575,\n",
       "        0.78710654, 0.78846596, 0.80613848, 0.71913534, 0.76263691,\n",
       "        0.64164816, 0.6212568 , 0.55736387, 0.43773455, 0.4010301 ,\n",
       "        0.30043272, 0.2881979 , 0.23789921, 0.14545838, 0.14409895,\n",
       "        0.09108141, 0.05845524, 0.04078272, 0.0339856 , 0.01903194,\n",
       "        0.01767251, 0.00815654, 0.00815654, 0.00407827, 0.00271885]),\n",
       " array([-1.44215423, -1.36859367, -1.2950331 , -1.22147254, -1.14791198,\n",
       "        -1.07435141, -1.00079085, -0.92723029, -0.85366973, -0.78010916,\n",
       "        -0.7065486 , -0.63298804, -0.55942748, -0.48586691, -0.41230635,\n",
       "        -0.33874579, -0.26518522, -0.19162466, -0.1180641 , -0.04450354,\n",
       "         0.02905703,  0.10261759,  0.17617815,  0.24973872,  0.32329928,\n",
       "         0.39685984,  0.4704204 ,  0.54398097,  0.61754153,  0.69110209,\n",
       "         0.76466265,  0.83822322,  0.91178378,  0.98534434,  1.05890491,\n",
       "         1.13246547,  1.20602603,  1.27958659,  1.35314716,  1.42670772,\n",
       "         1.50026828,  1.57382885,  1.64738941,  1.72094997,  1.79451053,\n",
       "         1.8680711 ,  1.94163166,  2.01519222,  2.08875279,  2.16231335,\n",
       "         2.23587391]),\n",
       " <a list of 50 Patch objects>)"
      ]
     },
     "execution_count": 30,
     "metadata": {},
     "output_type": "execute_result"
    },
    {
     "data": {
      "image/png": "[encoded data removed]",
      "text/plain": [
       "<Figure size 432x288 with 1 Axes>"
      ]
     },
     "metadata": {
      "needs_background": "light"
     },
     "output_type": "display_data"
    }
   ],
   "source": [
    "mu = 0.5\n",
    "sigma = 0.5\n",
    "distro2 = np.random.logistic(mu, sigma, 10000)\n",
    "plt.hist(distro2, 50, density=True)\n",
    "distro = np.random.normal(mu, sigma, 10000)\n",
    "plt.hist(distro, 50, density=True)"
   ]
  },
  {
   "cell_type": "markdown",
   "metadata": {},
   "source": [
    "Compute the CDF of the logistic distribution, and will see the **sigmoid** curve."
   ]
  },
  {
   "cell_type": "code",
   "execution_count": 31,
   "metadata": {},
   "outputs": [
    {
     "data": {
      "text/plain": [
       "(array([2.000e-04, 2.000e-04, 3.000e-04, 5.000e-04, 8.000e-04, 1.400e-03,\n",
       "        1.700e-03, 2.500e-03, 3.400e-03, 5.200e-03, 7.700e-03, 1.100e-02,\n",
       "        1.570e-02, 2.230e-02, 3.120e-02, 4.740e-02, 6.840e-02, 9.680e-02,\n",
       "        1.328e-01, 1.774e-01, 2.379e-01, 3.132e-01, 4.018e-01, 4.890e-01,\n",
       "        5.794e-01, 6.634e-01, 7.361e-01, 7.981e-01, 8.522e-01, 8.923e-01,\n",
       "        9.208e-01, 9.425e-01, 9.605e-01, 9.727e-01, 9.816e-01, 9.869e-01,\n",
       "        9.907e-01, 9.927e-01, 9.945e-01, 9.962e-01, 9.972e-01, 9.977e-01,\n",
       "        9.982e-01, 9.986e-01, 9.993e-01, 9.996e-01, 9.998e-01, 9.998e-01,\n",
       "        9.999e-01, 1.000e+00]),\n",
       " array([-195.19684683, -186.07265833, -176.94846983, -167.82428133,\n",
       "        -158.70009283, -149.57590433, -140.45171583, -131.32752732,\n",
       "        -122.20333882, -113.07915032, -103.95496182,  -94.83077332,\n",
       "         -85.70658482,  -76.58239632,  -67.45820781,  -58.33401931,\n",
       "         -49.20983081,  -40.08564231,  -30.96145381,  -21.83726531,\n",
       "         -12.71307681,   -3.5888883 ,    5.5353002 ,   14.6594887 ,\n",
       "          23.7836772 ,   32.9078657 ,   42.0320542 ,   51.1562427 ,\n",
       "          60.28043121,   69.40461971,   78.52880821,   87.65299671,\n",
       "          96.77718521,  105.90137371,  115.02556221,  124.14975072,\n",
       "         133.27393922,  142.39812772,  151.52231622,  160.64650472,\n",
       "         169.77069322,  178.89488173,  188.01907023,  197.14325873,\n",
       "         206.26744723,  215.39163573,  224.51582423,  233.64001273,\n",
       "         242.76420124,  251.88838974,  261.01257824]),\n",
       " <a list of 50 Patch objects>)"
      ]
     },
     "execution_count": 31,
     "metadata": {},
     "output_type": "execute_result"
    },
    {
     "data": {
      "image/png": "[encoded data removed]",
      "text/plain": [
       "<Figure size 432x288 with 1 Axes>"
      ]
     },
     "metadata": {
      "needs_background": "light"
     },
     "output_type": "display_data"
    }
   ],
   "source": [
    "logistic_cumulative = np.random.logistic(mu, sigma, 10000) / 0.02\n",
    "plt.hist(logistic_cumulative, 50, density=1, cumulative=True)"
   ]
  }
 ],
 "metadata": {
  "kernelspec": {
   "display_name": "Python 3",
   "language": "python",
   "name": "python3"
  },
  "language_info": {
   "codemirror_mode": {
    "name": "ipython",
    "version": 3
   },
   "file_extension": ".py",
   "mimetype": "text/x-python",
   "name": "python",
   "nbconvert_exporter": "python",
   "pygments_lexer": "ipython3",
   "version": "3.6.5"
  }
 },
 "nbformat": 4,
 "nbformat_minor": 2
}
